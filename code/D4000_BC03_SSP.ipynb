{
 "cells": [
  {
   "cell_type": "code",
   "execution_count": 1,
   "metadata": {
    "collapsed": true
   },
   "outputs": [],
   "source": [
    "import numpy as np\n",
    "import matplotlib.pyplot as P\n",
    "from astropy.io import fits\n",
    "from astropy import units as un\n",
    "from astropy.table import Table\n",
    "import scipy as S\n",
    "from scipy import interpolate\n",
    "%matplotlib inline"
   ]
  },
  {
   "cell_type": "code",
   "execution_count": 61,
   "metadata": {
    "collapsed": true
   },
   "outputs": [],
   "source": [
    "model = '/Users/becky/Projects/Green-Valley-Project/bc03/models/Padova1994/chabrier/ASCII/extracted_bc2003_hr_m42_chab_ssp.ised_ASCII'\n",
    "data = np.loadtxt(model)\n",
    "model_ages = data[0,1:]\n",
    "model_lambda = data[1:,0]\n",
    "model_fluxes = data[1:,1:]"
   ]
  },
  {
   "cell_type": "code",
   "execution_count": 3,
   "metadata": {
    "collapsed": true
   },
   "outputs": [],
   "source": [
    "from astropy.cosmology import FlatLambdaCDM\n",
    "cosmo = FlatLambdaCDM(H0=71.0, Om0 = 0.26)\n",
    "nsa_z = 0.0263343\n",
    "ld = cosmo.luminosity_distance(nsa_z)"
   ]
  },
  {
   "cell_type": "code",
   "execution_count": 4,
   "metadata": {
    "collapsed": true
   },
   "outputs": [],
   "source": [
    "c = 299792.458 * (un.km/un.s)"
   ]
  },
  {
   "cell_type": "code",
   "execution_count": 5,
   "metadata": {
    "collapsed": true
   },
   "outputs": [],
   "source": [
    "f = c/(model_lambda*un.AA).to(un.km)"
   ]
  },
  {
   "cell_type": "code",
   "execution_count": 7,
   "metadata": {
    "collapsed": false
   },
   "outputs": [
    {
     "data": {
      "text/plain": [
       "(6900, 221)"
      ]
     },
     "execution_count": 7,
     "metadata": {},
     "output_type": "execute_result"
    }
   ],
   "source": [
    "model_fluxes.shape"
   ]
  },
  {
   "cell_type": "code",
   "execution_count": 12,
   "metadata": {
    "collapsed": false
   },
   "outputs": [
    {
     "data": {
      "text/latex": [
       "$[[3.2944226 \\times 10^{16}],~\n",
       " [3.1892815 \\times 10^{16}],~\n",
       " [3.1228381 \\times 10^{16}],~\n",
       " \\dots, \n",
       " [2.4982705 \\times 10^{12}],~\n",
       " [2.1413747 \\times 10^{12}],~\n",
       " [1.8737029 \\times 10^{12}]] \\; \\mathrm{\\frac{1}{s}}$"
      ],
      "text/plain": [
       "<Quantity [[  3.29442262e+16],\n",
       "           [  3.18928147e+16],\n",
       "           [  3.12283810e+16],\n",
       "           ..., \n",
       "           [  2.49827048e+12],\n",
       "           [  2.14137470e+12],\n",
       "           [  1.87370286e+12]] 1 / s>"
      ]
     },
     "execution_count": 12,
     "metadata": {},
     "output_type": "execute_result"
    }
   ],
   "source": [
    "f.reshape(-1,1)"
   ]
  },
  {
   "cell_type": "code",
   "execution_count": 62,
   "metadata": {
    "collapsed": false
   },
   "outputs": [],
   "source": [
    "flux_density = (((model_fluxes*(un.solLum/un.AA)).to(un.erg/(un.s*un.AA)))*(model_lambda.reshape(-1,1)*un.AA)/f.reshape(-1,1).to(un.Hz))/(4*np.pi*(ld.to(un.cm)**2))"
   ]
  },
  {
   "cell_type": "code",
   "execution_count": 15,
   "metadata": {
    "collapsed": false
   },
   "outputs": [
    {
     "data": {
      "text/plain": [
       "(6900, 221)"
      ]
     },
     "execution_count": 15,
     "metadata": {},
     "output_type": "execute_result"
    }
   ],
   "source": [
    "flux_density.shape"
   ]
  },
  {
   "cell_type": "code",
   "execution_count": 20,
   "metadata": {
    "collapsed": true
   },
   "outputs": [],
   "source": [
    "waves = np.repeat(model_lambda.reshape(-1,1), 221, axis=1)"
   ]
  },
  {
   "cell_type": "code",
   "execution_count": 23,
   "metadata": {
    "collapsed": false
   },
   "outputs": [],
   "source": [
    "mask1 = (np.logical_or(waves<3750, waves>3950))\n",
    "mask2 = (np.logical_or(waves<4050, waves>4250))"
   ]
  },
  {
   "cell_type": "code",
   "execution_count": 63,
   "metadata": {
    "collapsed": false
   },
   "outputs": [],
   "source": [
    "flux_ds1 = np.ma.masked_array(flux_density, mask=mask1)\n",
    "flux_ds2 = np.ma.masked_array(flux_density, mask=mask2)"
   ]
  },
  {
   "cell_type": "code",
   "execution_count": 64,
   "metadata": {
    "collapsed": true
   },
   "outputs": [],
   "source": [
    "upper = np.mean(flux_ds1, axis=0)\n",
    "lower = np.mean(flux_ds2, axis=0)"
   ]
  },
  {
   "cell_type": "code",
   "execution_count": 65,
   "metadata": {
    "collapsed": false
   },
   "outputs": [],
   "source": [
    "D4000_m42 = lower/upper"
   ]
  },
  {
   "cell_type": "markdown",
   "metadata": {},
   "source": [
    "Now we've calculated D4000 for the BC03 simple stellar populations at the model ages they provide, let's plot how D4000 changes with SSP age. We can compare this to Figure 2 of [Poggianti & Barbaro (1997)](http://articles.adsabs.harvard.edu/cgi-bin/nph-iarticle_query?1997A%26A...325.1025P&amp;data_type=PDF_HIGH&amp;whole_paper=YES&amp;type=PRINTER&amp;filetype=.pdf)"
   ]
  },
  {
   "cell_type": "code",
   "execution_count": 75,
   "metadata": {
    "collapsed": false
   },
   "outputs": [
    {
     "data": {
      "text/plain": [
       "<matplotlib.legend.Legend at 0x119e3bcd0>"
      ]
     },
     "execution_count": 75,
     "metadata": {},
     "output_type": "execute_result"
    },
    {
     "data": {
      "image/png": "[encoded data removed]",
      "text/plain": [
       "<matplotlib.figure.Figure at 0x119cbe290>"
      ]
     },
     "metadata": {},
     "output_type": "display_data"
    }
   ],
   "source": [
    "P.figure(figsize=(10,6))\n",
    "P.plot(model_ages/1E6, D4000_m62, marker='o', ms=1, color='k', label='Z=0.02')\n",
    "P.plot(model_ages/1E6, D4000_m42, marker='o', ms=1, color='k', linestyle='dashed', label='Z=0.004')\n",
    "P.xlim(-1000, 16000)\n",
    "P.xlabel('Age [Myr]')\n",
    "P.ylabel('D4000')\n",
    "P.minorticks_on()\n",
    "P.xticks([0, 5000, 1E4, 1.5E4])\n",
    "P.legend(frameon=False, fontsize=16, loc=8)"
   ]
  },
  {
   "cell_type": "markdown",
   "metadata": {},
   "source": [
    "And we find that it is very similar to their Figure 2 - great sanity check! "
   ]
  }
 ],
 "metadata": {
  "kernelspec": {
   "display_name": "Python 2",
   "language": "python",
   "name": "python2"
  },
  "language_info": {
   "codemirror_mode": {
    "name": "ipython",
    "version": 2
   },
   "file_extension": ".py",
   "mimetype": "text/x-python",
   "name": "python",
   "nbconvert_exporter": "python",
   "pygments_lexer": "ipython2",
   "version": "2.7.8"
  }
 },
 "nbformat": 4,
 "nbformat_minor": 0
}
